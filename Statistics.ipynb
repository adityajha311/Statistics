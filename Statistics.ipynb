{
  "nbformat": 4,
  "nbformat_minor": 0,
  "metadata": {
    "colab": {
      "provenance": []
    },
    "kernelspec": {
      "name": "python3",
      "display_name": "Python 3"
    },
    "language_info": {
      "name": "python"
    }
  },
  "cells": [
    {
      "cell_type": "markdown",
      "source": [
        "Question 1: What is the difference between descriptive statistics and inferential statistics? Explain with examples."
      ],
      "metadata": {
        "id": "CvUW7lICgOi1"
      }
    },
    {
      "cell_type": "markdown",
      "source": [
        "Answer:\n",
        "Descriptive statistics summarize and describe the characteristics of a dataset using measures like mean, median, mode, and standard deviation.\n",
        "Example: \"The average score of students in Class A is 85.\"\n",
        "Inferential statistics use a sample to make generalizations about a population. It involves hypothesis testing, confidence intervals, etc.\n",
        "Example: \"Based on a sample of 100 voters, we predict that 60% of the entire population supports Candidate X.\""
      ],
      "metadata": {
        "id": "8V1CqJCzgTsZ"
      }
    },
    {
      "cell_type": "markdown",
      "source": [
        "Question 2: What is sampling in statistics? Explain the differences between random and stratified sampling."
      ],
      "metadata": {
        "id": "e0su9IIN_4Ju"
      }
    },
    {
      "cell_type": "markdown",
      "source": [
        "Answer:Sampling is the process of selecting a subset (sample) from a larger group (population) to analyze and draw conclusions.\n",
        "\n",
        "-> Random Sampling: Every individual has an equal chance of selection.\n",
        "\n",
        "Example: Picking 10 names randomly from a hat.\n",
        "\n",
        "-> Stratified Sampling: Population is divided into strata (groups) and samples are taken proportionally from each.\n",
        "\n",
        "Example: Selecting 5 students from each department for a university survey."
      ],
      "metadata": {
        "id": "dBo5rqRaAMLW"
      }
    },
    {
      "cell_type": "markdown",
      "source": [
        "Question 3: Define mean, median, and mode. Explain why these measures of central tendency are important."
      ],
      "metadata": {
        "id": "RM80N1UFAvIQ"
      }
    },
    {
      "cell_type": "markdown",
      "source": [
        "Answer:\n",
        "\n",
        "-> Mean: The average of all values.\n",
        "\n",
        "-> Median: The middle value in an ordered dataset.\n",
        "\n",
        "-> Mode: The most frequently occurring value.\n",
        "\n",
        "They are important as they summarize large datasets into a single representative value, helping us understand the data’s center and distribution pattern.\n",
        "\n"
      ],
      "metadata": {
        "id": "W6p1jOoAA2ry"
      }
    },
    {
      "cell_type": "markdown",
      "source": [
        "Question 4: Explain skewness and kurtosis. What does a positive skew imply about the data?\n",
        "\n"
      ],
      "metadata": {
        "id": "s2J4myviBIk4"
      }
    },
    {
      "cell_type": "markdown",
      "source": [
        "Answer:\n",
        "\n",
        "-> Skewness measures the asymmetry of a distribution.\n",
        "\n",
        "-> Positive skew: Tail is longer on the right; most data values are concentrated on the left.\n",
        "\n",
        "-> Kurtosis measures the \"tailedness\" or peakedness of a distribution.\n",
        "\n",
        "-> High kurtosis: Sharp peak with heavy tails\n",
        "\n",
        "-> Low kurtosis: Flat distribution\n",
        "\n",
        "-> A positive skew means the dataset has more lower values and a few extremely high values pulling the mean to the right.\n"
      ],
      "metadata": {
        "id": "UIlG5CTUBuuW"
      }
    },
    {
      "cell_type": "code",
      "source": [
        "# 5. Write a Python program to compute mean, median, and mode of a given list of numbers.\n",
        "import statistics as stats\n",
        "\n",
        "data = [10, 20, 20, 30, 40, 40, 40, 50]\n",
        "mean = stats.mean(data)\n",
        "median = stats.median(data)\n",
        "mode = stats.mode(data)\n",
        "\n",
        "print(\"Mean:\", mean)\n",
        "print(\"Median:\", median)\n",
        "print(\"Mode:\", mode)\n"
      ],
      "metadata": {
        "colab": {
          "base_uri": "https://localhost:8080/",
          "height": 0
        },
        "id": "XOXgmeKoB582",
        "outputId": "121adb6a-1861-4310-fefb-ad106b440402"
      },
      "execution_count": 1,
      "outputs": [
        {
          "output_type": "stream",
          "name": "stdout",
          "text": [
            "Mean: 31.25\n",
            "Median: 35.0\n",
            "Mode: 40\n"
          ]
        }
      ]
    },
    {
      "cell_type": "code",
      "source": [
        "# 6. Compute the covariance and correlation coefficient between two lists using Python.\n",
        "import numpy as np\n",
        "\n",
        "x = [10, 20, 30, 40, 50]\n",
        "y = [12, 22, 32, 42, 52]\n",
        "\n",
        "# Covariance\n",
        "cov_matrix = np.cov(x, y)\n",
        "covariance = cov_matrix[0][1]\n",
        "\n",
        "# Correlation\n",
        "correlation = np.corrcoef(x, y)[0][1]\n",
        "\n",
        "print(\"Covariance:\", covariance)\n",
        "print(\"Correlation Coefficient:\", correlation)\n"
      ],
      "metadata": {
        "colab": {
          "base_uri": "https://localhost:8080/",
          "height": 0
        },
        "id": "bj-lID8VCJAC",
        "outputId": "897d6e14-4b9a-4fa8-9a74-c779e446090b"
      },
      "execution_count": 2,
      "outputs": [
        {
          "output_type": "stream",
          "name": "stdout",
          "text": [
            "Covariance: 250.0\n",
            "Correlation Coefficient: 1.0\n"
          ]
        }
      ]
    },
    {
      "cell_type": "code",
      "source": [
        "# 7. Create a boxplot using matplotlib and identify outliers in the dataset.\n",
        "import matplotlib.pyplot as plt\n",
        "\n",
        "data = [5, 7, 8, 9, 10, 15, 16, 18, 19, 100]  # 100 is a clear outlier\n",
        "\n",
        "plt.boxplot(data)\n",
        "plt.title(\"Boxplot with Outlier\")\n",
        "plt.ylabel(\"Values\")\n",
        "plt.show()\n"
      ],
      "metadata": {
        "colab": {
          "base_uri": "https://localhost:8080/",
          "height": 452
        },
        "id": "JUWxNtAkCNHa",
        "outputId": "27720a0d-6f14-41c6-a414-942452eac475"
      },
      "execution_count": 3,
      "outputs": [
        {
          "output_type": "display_data",
          "data": {
            "text/plain": [
              "<Figure size 640x480 with 1 Axes>"
            ],
            "image/png": "[encoded data removed]"
          },
          "metadata": {}
        }
      ]
    },
    {
      "cell_type": "code",
      "source": [
        "# 8. Given advertising spend and daily sales data, calculate correlation.\n",
        "import numpy as np\n",
        "\n",
        "advertising = [1000, 1500, 2000, 2500, 3000]\n",
        "sales = [120, 160, 210, 260, 310]\n",
        "\n",
        "correlation = np.corrcoef(advertising, sales)[0][1]\n",
        "print(\"Correlation between advertising spend and sales:\", correlation)\n",
        "\n",
        "\n",
        "'''\n",
        "Explain how you would use covariance and correlation to explore the relationship between advertising spend and daily sales.\n",
        "\n",
        "Answer:\n",
        "-> Covariance indicates whether two variables change together (positive = increase together, negative = opposite directions), but not the strength.\n",
        "\n",
        "-> Correlation coefficient (between -1 and 1) measures both the direction and strength of the relationship.\n",
        "\n",
        "-> A positive correlation near 1 between advertising spend and sales would suggest that higher spending is associated with higher sales.\n",
        "'''\n"
      ],
      "metadata": {
        "colab": {
          "base_uri": "https://localhost:8080/",
          "height": 0
        },
        "id": "_3_9lIahCR9S",
        "outputId": "a5302436-5994-4565-e32d-88513749613b"
      },
      "execution_count": 11,
      "outputs": [
        {
          "output_type": "stream",
          "name": "stdout",
          "text": [
            "Correlation between advertising spend and sales: 0.999133073092352\n"
          ]
        }
      ]
    },
    {
      "cell_type": "code",
      "source": [
        "# 9. Create a histogram using matplotlib for a survey dataset (scale 1–10).\n",
        "import matplotlib.pyplot as plt\n",
        "\n",
        "survey_scores = [7, 8, 8, 9, 6, 7, 9, 10, 5, 6, 8, 7, 7, 6, 8]\n",
        "\n",
        "plt.hist(survey_scores, bins=10, edgecolor='black')\n",
        "plt.title(\"Survey Score Distribution\")\n",
        "plt.xlabel(\"Scores\")\n",
        "plt.ylabel(\"Frequency\")\n",
        "plt.show()\n",
        "\n",
        "'''\n",
        "Your team has collected customer satisfaction survey data on a scale of 1–10. How would you understand its distribution?\n",
        "\n",
        "Answer:\n",
        "-> Use summary statistics like:\n",
        "\n",
        "-> Mean (average score)\n",
        "\n",
        "-> Median (middle value)\n",
        "\n",
        "-> Standard deviation (spread of responses)\n",
        "\n",
        "-> Use visualizations like:\n",
        "Histogram to observe the shape (normal/skewed)\n",
        "\n",
        "-> Boxplot to spot outliers\n",
        "This helps understand how customers feel about the product/service and if there are extreme opinions.\n",
        "'''"
      ],
      "metadata": {
        "colab": {
          "base_uri": "https://localhost:8080/",
          "height": 472
        },
        "id": "T7q7ZaN9FDsN",
        "outputId": "a6f9e199-c9ff-408e-aca0-fbaaea7dbfc2"
      },
      "execution_count": 12,
      "outputs": [
        {
          "output_type": "display_data",
          "data": {
            "text/plain": [
              "<Figure size 640x480 with 1 Axes>"
            ],
            "image/png": "[encoded data removed]"
          },
          "metadata": {}
        }
      ]
    },
    {
      "cell_type": "markdown",
      "source": [],
      "metadata": {
        "id": "-YTFpgr7CdsD"
      }
    }
  ]
}